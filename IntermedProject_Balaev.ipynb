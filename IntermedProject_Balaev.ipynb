{
 "cells": [
  {
   "cell_type": "markdown",
   "metadata": {},
   "source": [
    "Импортируем все необходимые библиотеки, затем считываем файлы. Спарсим даты из столбцов с датами из датафрейма orders, чтобы упростить дальнейшую работу."
   ]
  },
  {
   "cell_type": "code",
   "execution_count": 1,
   "metadata": {},
   "outputs": [],
   "source": [
    "import pandas as pd\n",
    "import numpy as np\n",
    "import scipy as sp\n",
    "import seaborn as sns\n",
    "import matplotlib.pyplot as plt"
   ]
  },
  {
   "cell_type": "code",
   "execution_count": 2,
   "metadata": {},
   "outputs": [],
   "source": [
    "customers = pd.read_csv('olist_customers_dataset.csv', sep=',')\n",
    "order_items = pd.read_csv('olist_order_items_dataset.csv', sep=',')\n",
    "orders = pd.read_csv('olist_orders_dataset.csv', sep=',', parse_dates=[3, 4, 5, 6, 7])"
   ]
  },
  {
   "cell_type": "markdown",
   "metadata": {},
   "source": [
    "ЗАДАНИЕ 1\n",
    "\n",
    "Я полагаю, что покупкой можно считать все заказы со статусом delivered, т.к. заказ мог быть оплачен, но потом отменён.\n",
    "Для начала мёрджим датафреймы customers и orders. Отсеиваем все успешно доставленные заказы."
   ]
  },
  {
   "cell_type": "code",
   "execution_count": 3,
   "metadata": {},
   "outputs": [],
   "source": [
    "customers_orders_merged = customers.merge(orders, how='left')"
   ]
  },
  {
   "cell_type": "markdown",
   "metadata": {},
   "source": [
    "Считаем кол-во повторений уникальных id клиентов."
   ]
  },
  {
   "cell_type": "code",
   "execution_count": 4,
   "metadata": {},
   "outputs": [],
   "source": [
    "uniq_customers = customers_orders_merged.query('order_status == \"delivered\"').customer_unique_id.value_counts() \\\n",
    "                                        .reset_index() \\\n",
    "                                        .rename(columns={'index': 'customer_id', 'customer_unique_id':'amount_of_orders'})"
   ]
  },
  {
   "cell_type": "markdown",
   "metadata": {},
   "source": [
    "Отсеиваем только те customer_unique_id, которые встречались один раз."
   ]
  },
  {
   "cell_type": "code",
   "execution_count": 5,
   "metadata": {},
   "outputs": [
    {
     "data": {
      "text/html": [
       "<div>\n",
       "<style scoped>\n",
       "    .dataframe tbody tr th:only-of-type {\n",
       "        vertical-align: middle;\n",
       "    }\n",
       "\n",
       "    .dataframe tbody tr th {\n",
       "        vertical-align: top;\n",
       "    }\n",
       "\n",
       "    .dataframe thead th {\n",
       "        text-align: right;\n",
       "    }\n",
       "</style>\n",
       "<table border=\"1\" class=\"dataframe\">\n",
       "  <thead>\n",
       "    <tr style=\"text-align: right;\">\n",
       "      <th></th>\n",
       "      <th>customer_id</th>\n",
       "      <th>amount_of_orders</th>\n",
       "    </tr>\n",
       "  </thead>\n",
       "  <tbody>\n",
       "    <tr>\n",
       "      <th>2801</th>\n",
       "      <td>050e851d9dc8fee1217f1a61ef82d095</td>\n",
       "      <td>1</td>\n",
       "    </tr>\n",
       "    <tr>\n",
       "      <th>2802</th>\n",
       "      <td>38d92612568ca6e3d6b478e5fb004a6f</td>\n",
       "      <td>1</td>\n",
       "    </tr>\n",
       "    <tr>\n",
       "      <th>2803</th>\n",
       "      <td>35a412904ddbb1be0734bfe8dc2c6796</td>\n",
       "      <td>1</td>\n",
       "    </tr>\n",
       "    <tr>\n",
       "      <th>2804</th>\n",
       "      <td>d2f28957708c477204aaddbad2f2c37c</td>\n",
       "      <td>1</td>\n",
       "    </tr>\n",
       "    <tr>\n",
       "      <th>2805</th>\n",
       "      <td>36b6bda8a3ca33a3df452dd5c13fdfcd</td>\n",
       "      <td>1</td>\n",
       "    </tr>\n",
       "    <tr>\n",
       "      <th>...</th>\n",
       "      <td>...</td>\n",
       "      <td>...</td>\n",
       "    </tr>\n",
       "    <tr>\n",
       "      <th>93353</th>\n",
       "      <td>182e92ace06fb8e0107a4ebfffc01611</td>\n",
       "      <td>1</td>\n",
       "    </tr>\n",
       "    <tr>\n",
       "      <th>93354</th>\n",
       "      <td>2ec5e93fe922b65036198423712d6867</td>\n",
       "      <td>1</td>\n",
       "    </tr>\n",
       "    <tr>\n",
       "      <th>93355</th>\n",
       "      <td>428f4721a509be8c52de6ec2900ba918</td>\n",
       "      <td>1</td>\n",
       "    </tr>\n",
       "    <tr>\n",
       "      <th>93356</th>\n",
       "      <td>049aed9afdafa108602fe27e43455f56</td>\n",
       "      <td>1</td>\n",
       "    </tr>\n",
       "    <tr>\n",
       "      <th>93357</th>\n",
       "      <td>945c2dc6c49b29e7329378181832ff93</td>\n",
       "      <td>1</td>\n",
       "    </tr>\n",
       "  </tbody>\n",
       "</table>\n",
       "<p>90557 rows × 2 columns</p>\n",
       "</div>"
      ],
      "text/plain": [
       "                            customer_id  amount_of_orders\n",
       "2801   050e851d9dc8fee1217f1a61ef82d095                 1\n",
       "2802   38d92612568ca6e3d6b478e5fb004a6f                 1\n",
       "2803   35a412904ddbb1be0734bfe8dc2c6796                 1\n",
       "2804   d2f28957708c477204aaddbad2f2c37c                 1\n",
       "2805   36b6bda8a3ca33a3df452dd5c13fdfcd                 1\n",
       "...                                 ...               ...\n",
       "93353  182e92ace06fb8e0107a4ebfffc01611                 1\n",
       "93354  2ec5e93fe922b65036198423712d6867                 1\n",
       "93355  428f4721a509be8c52de6ec2900ba918                 1\n",
       "93356  049aed9afdafa108602fe27e43455f56                 1\n",
       "93357  945c2dc6c49b29e7329378181832ff93                 1\n",
       "\n",
       "[90557 rows x 2 columns]"
      ]
     },
     "execution_count": 5,
     "metadata": {},
     "output_type": "execute_result"
    }
   ],
   "source": [
    "uniq_customers.query('amount_of_orders==1')"
   ]
  },
  {
   "cell_type": "code",
   "execution_count": 6,
   "metadata": {},
   "outputs": [],
   "source": [
    "undelivrd_orders = orders.query('order_status!=\"delivered\"')"
   ]
  },
  {
   "cell_type": "markdown",
   "metadata": {},
   "source": [
    "Не у всех заказов есть дата и время платежа, так что возьмём за точку отсчёта дату и время создания заказа."
   ]
  },
  {
   "cell_type": "markdown",
   "metadata": {},
   "source": [
    "Теперь выводим колонку с месяцем и годом создания заказа."
   ]
  },
  {
   "cell_type": "code",
   "execution_count": 7,
   "metadata": {},
   "outputs": [
    {
     "name": "stderr",
     "output_type": "stream",
     "text": [
      "/opt/tljh/user/lib/python3.7/site-packages/ipykernel_launcher.py:1: SettingWithCopyWarning: \n",
      "A value is trying to be set on a copy of a slice from a DataFrame.\n",
      "Try using .loc[row_indexer,col_indexer] = value instead\n",
      "\n",
      "See the caveats in the documentation: https://pandas.pydata.org/pandas-docs/stable/user_guide/indexing.html#returning-a-view-versus-a-copy\n",
      "  \"\"\"Entry point for launching an IPython kernel.\n",
      "/opt/tljh/user/lib/python3.7/site-packages/ipykernel_launcher.py:2: SettingWithCopyWarning: \n",
      "A value is trying to be set on a copy of a slice from a DataFrame.\n",
      "Try using .loc[row_indexer,col_indexer] = value instead\n",
      "\n",
      "See the caveats in the documentation: https://pandas.pydata.org/pandas-docs/stable/user_guide/indexing.html#returning-a-view-versus-a-copy\n",
      "  \n"
     ]
    }
   ],
   "source": [
    "undelivrd_orders['month'] = undelivrd_orders['order_purchase_timestamp'].dt.month\n",
    "undelivrd_orders['year'] = undelivrd_orders['order_purchase_timestamp'].dt.year"
   ]
  },
  {
   "cell_type": "markdown",
   "metadata": {},
   "source": [
    "По сути дела, наши таблицы - это срез данных в определённый момент времени.\n",
    "Следовательно, заказы со всеми статусами, кроме canceled и unavailable, ещё могут перейти в разряд заказов delivered.\n",
    "Поэтому, строго говоря, в моменте недоставленные заказы - это только canceled + unavailable."
   ]
  },
  {
   "cell_type": "markdown",
   "metadata": {},
   "source": [
    "Сначала считаем общее кол-во недоставленных заказов, потом считаем их среднее кол-во в месяц и для удобства визуализируем."
   ]
  },
  {
   "cell_type": "code",
   "execution_count": 8,
   "metadata": {},
   "outputs": [],
   "source": [
    "orders_unavail_canceled = undelivrd_orders.query('order_status == \"unavailable\" | order_status ==\"canceled\"') \\\n",
    "                        .groupby(['month', 'year', 'order_status'], as_index=False) \\\n",
    "                        .agg({'order_id': 'count'})"
   ]
  },
  {
   "cell_type": "code",
   "execution_count": 9,
   "metadata": {},
   "outputs": [
    {
     "data": {
      "text/plain": [
       "order_status\n",
       "canceled       26.0\n",
       "unavailable    29.0\n",
       "Name: order_id, dtype: float64"
      ]
     },
     "execution_count": 9,
     "metadata": {},
     "output_type": "execute_result"
    }
   ],
   "source": [
    "orders_unavail_canceled.groupby('order_status').order_id.mean().round(1)"
   ]
  },
  {
   "cell_type": "code",
   "execution_count": 10,
   "metadata": {},
   "outputs": [
    {
     "data": {
      "text/plain": [
       "Text(0, 0.5, 'avg_orders')"
      ]
     },
     "execution_count": 10,
     "metadata": {},
     "output_type": "execute_result"
    },
    {
     "data": {
      "image/png": "[encoded data removed]",
      "text/plain": [
       "<Figure size 720x432 with 1 Axes>"
      ]
     },
     "metadata": {
      "needs_background": "light"
     },
     "output_type": "display_data"
    }
   ],
   "source": [
    "plt.figure(figsize=(10,6))\n",
    "sns.countplot(data=orders_unavail_canceled, x='order_status')\n",
    "plt.ylabel('avg_orders')"
   ]
  },
  {
   "cell_type": "markdown",
   "metadata": {},
   "source": [
    "ЗАДАНИЕ 3"
   ]
  },
  {
   "cell_type": "markdown",
   "metadata": {},
   "source": [
    "Мёрджим датафреймы orders и order_items."
   ]
  },
  {
   "cell_type": "code",
   "execution_count": 11,
   "metadata": {},
   "outputs": [],
   "source": [
    "orders_and_products = order_items.merge(orders, how='left', on='order_id')"
   ]
  },
  {
   "cell_type": "markdown",
   "metadata": {},
   "source": [
    "Добавляем колонку с наименованиями дней недели."
   ]
  },
  {
   "cell_type": "code",
   "execution_count": 12,
   "metadata": {},
   "outputs": [],
   "source": [
    "orders_and_products['weekday'] = orders_and_products['order_purchase_timestamp'].dt.day_name()"
   ]
  },
  {
   "cell_type": "markdown",
   "metadata": {},
   "source": [
    "Здесь уже дата покупки = это дата оплаты. Выделяем их из датафрейма. Затем группируем и считаем уникальные значения product_id через столбец price"
   ]
  },
  {
   "cell_type": "code",
   "execution_count": 13,
   "metadata": {},
   "outputs": [],
   "source": [
    "orders_and_products = orders_and_products.query('order_status == \"delivered\"') \\\n",
    "                   .groupby(['product_id', 'weekday']) \\\n",
    "                   .agg({'price':'count'}) \\\n",
    "                   .reset_index()"
   ]
  },
  {
   "cell_type": "markdown",
   "metadata": {},
   "source": [
    "Делаем пивот, выводим самые популярные дни для каждого товара."
   ]
  },
  {
   "cell_type": "code",
   "execution_count": 14,
   "metadata": {},
   "outputs": [
    {
     "data": {
      "text/html": [
       "<div>\n",
       "<style scoped>\n",
       "    .dataframe tbody tr th:only-of-type {\n",
       "        vertical-align: middle;\n",
       "    }\n",
       "\n",
       "    .dataframe tbody tr th {\n",
       "        vertical-align: top;\n",
       "    }\n",
       "\n",
       "    .dataframe thead th {\n",
       "        text-align: right;\n",
       "    }\n",
       "</style>\n",
       "<table border=\"1\" class=\"dataframe\">\n",
       "  <thead>\n",
       "    <tr style=\"text-align: right;\">\n",
       "      <th></th>\n",
       "      <th>product_id</th>\n",
       "      <th>most_productive_day</th>\n",
       "    </tr>\n",
       "  </thead>\n",
       "  <tbody>\n",
       "    <tr>\n",
       "      <th>0</th>\n",
       "      <td>00066f42aeeb9f3007548bb9d3f33c38</td>\n",
       "      <td>Sunday</td>\n",
       "    </tr>\n",
       "    <tr>\n",
       "      <th>1</th>\n",
       "      <td>00088930e925c41fd95ebfe695fd2655</td>\n",
       "      <td>Tuesday</td>\n",
       "    </tr>\n",
       "    <tr>\n",
       "      <th>2</th>\n",
       "      <td>0009406fd7479715e4bef61dd91f2462</td>\n",
       "      <td>Thursday</td>\n",
       "    </tr>\n",
       "    <tr>\n",
       "      <th>3</th>\n",
       "      <td>000b8f95fcb9e0096488278317764d19</td>\n",
       "      <td>Friday</td>\n",
       "    </tr>\n",
       "    <tr>\n",
       "      <th>4</th>\n",
       "      <td>000d9be29b5207b54e86aa1b1ac54872</td>\n",
       "      <td>Tuesday</td>\n",
       "    </tr>\n",
       "    <tr>\n",
       "      <th>...</th>\n",
       "      <td>...</td>\n",
       "      <td>...</td>\n",
       "    </tr>\n",
       "    <tr>\n",
       "      <th>32211</th>\n",
       "      <td>fff6177642830a9a94a0f2cba5e476d1</td>\n",
       "      <td>Saturday</td>\n",
       "    </tr>\n",
       "    <tr>\n",
       "      <th>32212</th>\n",
       "      <td>fff81cc3158d2725c0655ab9ba0f712c</td>\n",
       "      <td>Monday</td>\n",
       "    </tr>\n",
       "    <tr>\n",
       "      <th>32213</th>\n",
       "      <td>fff9553ac224cec9d15d49f5a263411f</td>\n",
       "      <td>Friday</td>\n",
       "    </tr>\n",
       "    <tr>\n",
       "      <th>32214</th>\n",
       "      <td>fffdb2d0ec8d6a61f0a0a0db3f25b441</td>\n",
       "      <td>Tuesday</td>\n",
       "    </tr>\n",
       "    <tr>\n",
       "      <th>32215</th>\n",
       "      <td>fffe9eeff12fcbd74a2f2b007dde0c58</td>\n",
       "      <td>Wednesday</td>\n",
       "    </tr>\n",
       "  </tbody>\n",
       "</table>\n",
       "<p>32216 rows × 2 columns</p>\n",
       "</div>"
      ],
      "text/plain": [
       "                             product_id most_productive_day\n",
       "0      00066f42aeeb9f3007548bb9d3f33c38              Sunday\n",
       "1      00088930e925c41fd95ebfe695fd2655             Tuesday\n",
       "2      0009406fd7479715e4bef61dd91f2462            Thursday\n",
       "3      000b8f95fcb9e0096488278317764d19              Friday\n",
       "4      000d9be29b5207b54e86aa1b1ac54872             Tuesday\n",
       "...                                 ...                 ...\n",
       "32211  fff6177642830a9a94a0f2cba5e476d1            Saturday\n",
       "32212  fff81cc3158d2725c0655ab9ba0f712c              Monday\n",
       "32213  fff9553ac224cec9d15d49f5a263411f              Friday\n",
       "32214  fffdb2d0ec8d6a61f0a0a0db3f25b441             Tuesday\n",
       "32215  fffe9eeff12fcbd74a2f2b007dde0c58           Wednesday\n",
       "\n",
       "[32216 rows x 2 columns]"
      ]
     },
     "execution_count": 14,
     "metadata": {},
     "output_type": "execute_result"
    }
   ],
   "source": [
    "orders_and_products.pivot(index='product_id', columns='weekday', values='price') \\\n",
    "                     .idxmax(axis=1) \\\n",
    "                     .to_frame() \\\n",
    "                     .reset_index() \\\n",
    "                     .rename(columns={0: 'most_productive_day'})"
   ]
  },
  {
   "cell_type": "markdown",
   "metadata": {},
   "source": [
    "ЗАДАНИЕ 4"
   ]
  },
  {
   "cell_type": "markdown",
   "metadata": {},
   "source": [
    "У нас уже есть смёрдженный датафрейм, состоящий из датафреймов customers и orders.\n",
    "Отсеиваем все успешно доставленные заказы."
   ]
  },
  {
   "cell_type": "code",
   "execution_count": 15,
   "metadata": {},
   "outputs": [],
   "source": [
    "avg_purch = customers_orders_merged.query('order_status == \"delivered\"')"
   ]
  },
  {
   "cell_type": "markdown",
   "metadata": {},
   "source": [
    "Для удобства оставим только самые необходимые столбцы."
   ]
  },
  {
   "cell_type": "code",
   "execution_count": 16,
   "metadata": {},
   "outputs": [],
   "source": [
    "avg_purch = avg_purch[['customer_id', 'customer_unique_id', 'order_id', 'order_delivered_customer_date']]"
   ]
  },
  {
   "cell_type": "markdown",
   "metadata": {},
   "source": [
    "Сначала считаем кол-во заказов на уникального пользователя помесячно."
   ]
  },
  {
   "cell_type": "code",
   "execution_count": 17,
   "metadata": {},
   "outputs": [],
   "source": [
    "avg_purch_ord = avg_purch.groupby(['order_delivered_customer_date', 'customer_unique_id'], as_index=False) \\\n",
    "                          .agg({'order_id': 'count'}) \\\n",
    "                          .rename(columns={'order_id': 'orders_by_month'})"
   ]
  },
  {
   "cell_type": "markdown",
   "metadata": {},
   "source": [
    "Теперь выведем столбец, где посчитаем количество недель в каждом месяце."
   ]
  },
  {
   "cell_type": "code",
   "execution_count": 18,
   "metadata": {},
   "outputs": [
    {
     "data": {
      "text/html": [
       "<div>\n",
       "<style scoped>\n",
       "    .dataframe tbody tr th:only-of-type {\n",
       "        vertical-align: middle;\n",
       "    }\n",
       "\n",
       "    .dataframe tbody tr th {\n",
       "        vertical-align: top;\n",
       "    }\n",
       "\n",
       "    .dataframe thead th {\n",
       "        text-align: right;\n",
       "    }\n",
       "</style>\n",
       "<table border=\"1\" class=\"dataframe\">\n",
       "  <thead>\n",
       "    <tr style=\"text-align: right;\">\n",
       "      <th></th>\n",
       "      <th>order_delivered_customer_date</th>\n",
       "      <th>customer_unique_id</th>\n",
       "      <th>orders_by_month</th>\n",
       "      <th>weeks</th>\n",
       "    </tr>\n",
       "  </thead>\n",
       "  <tbody>\n",
       "    <tr>\n",
       "      <th>0</th>\n",
       "      <td>2016-10-11 13:46:32</td>\n",
       "      <td>f176923a0a4ab546c7287791ccb82193</td>\n",
       "      <td>1</td>\n",
       "      <td>4.428571</td>\n",
       "    </tr>\n",
       "    <tr>\n",
       "      <th>1</th>\n",
       "      <td>2016-10-11 14:46:49</td>\n",
       "      <td>1dc848c11c2985635c268ff3dea707eb</td>\n",
       "      <td>1</td>\n",
       "      <td>4.428571</td>\n",
       "    </tr>\n",
       "    <tr>\n",
       "      <th>2</th>\n",
       "      <td>2016-10-13 03:10:34</td>\n",
       "      <td>f99053da7416fd6d626451cd49e44e0f</td>\n",
       "      <td>1</td>\n",
       "      <td>4.428571</td>\n",
       "    </tr>\n",
       "    <tr>\n",
       "      <th>3</th>\n",
       "      <td>2016-10-13 07:45:48</td>\n",
       "      <td>acf599349b44e4e51d2beacb549313ad</td>\n",
       "      <td>1</td>\n",
       "      <td>4.428571</td>\n",
       "    </tr>\n",
       "    <tr>\n",
       "      <th>4</th>\n",
       "      <td>2016-10-13 15:44:27</td>\n",
       "      <td>664f7107c351f24b16b68919398730a0</td>\n",
       "      <td>1</td>\n",
       "      <td>4.428571</td>\n",
       "    </tr>\n",
       "  </tbody>\n",
       "</table>\n",
       "</div>"
      ],
      "text/plain": [
       "  order_delivered_customer_date                customer_unique_id  \\\n",
       "0           2016-10-11 13:46:32  f176923a0a4ab546c7287791ccb82193   \n",
       "1           2016-10-11 14:46:49  1dc848c11c2985635c268ff3dea707eb   \n",
       "2           2016-10-13 03:10:34  f99053da7416fd6d626451cd49e44e0f   \n",
       "3           2016-10-13 07:45:48  acf599349b44e4e51d2beacb549313ad   \n",
       "4           2016-10-13 15:44:27  664f7107c351f24b16b68919398730a0   \n",
       "\n",
       "   orders_by_month     weeks  \n",
       "0                1  4.428571  \n",
       "1                1  4.428571  \n",
       "2                1  4.428571  \n",
       "3                1  4.428571  \n",
       "4                1  4.428571  "
      ]
     },
     "execution_count": 18,
     "metadata": {},
     "output_type": "execute_result"
    }
   ],
   "source": [
    "avg_purch_ord['weeks'] = (avg_purch_ord['order_delivered_customer_date'].dt.daysinmonth) / 7\n",
    "avg_purch_ord.head()"
   ]
  },
  {
   "cell_type": "markdown",
   "metadata": {},
   "source": [
    "Теперь считаем среднее кол-во заказов на пользователя в неделю.\n",
    "Для наглядности оставим только id клиента и среднее кол-во заказов на каждого клиента в неделю.\n",
    "Округлим до приемлемого числа знаков после запятой."
   ]
  },
  {
   "cell_type": "code",
   "execution_count": 19,
   "metadata": {},
   "outputs": [],
   "source": [
    "avg_purch_ord['orders_by_week'] = round(avg_purch_ord.orders_by_month / avg_purch_ord.weeks, 2)"
   ]
  },
  {
   "cell_type": "code",
   "execution_count": 20,
   "metadata": {},
   "outputs": [
    {
     "data": {
      "text/html": [
       "<div>\n",
       "<style scoped>\n",
       "    .dataframe tbody tr th:only-of-type {\n",
       "        vertical-align: middle;\n",
       "    }\n",
       "\n",
       "    .dataframe tbody tr th {\n",
       "        vertical-align: top;\n",
       "    }\n",
       "\n",
       "    .dataframe thead th {\n",
       "        text-align: right;\n",
       "    }\n",
       "</style>\n",
       "<table border=\"1\" class=\"dataframe\">\n",
       "  <thead>\n",
       "    <tr style=\"text-align: right;\">\n",
       "      <th></th>\n",
       "      <th>customer_unique_id</th>\n",
       "      <th>orders_by_week</th>\n",
       "    </tr>\n",
       "  </thead>\n",
       "  <tbody>\n",
       "    <tr>\n",
       "      <th>0</th>\n",
       "      <td>f176923a0a4ab546c7287791ccb82193</td>\n",
       "      <td>0.23</td>\n",
       "    </tr>\n",
       "    <tr>\n",
       "      <th>1</th>\n",
       "      <td>1dc848c11c2985635c268ff3dea707eb</td>\n",
       "      <td>0.23</td>\n",
       "    </tr>\n",
       "    <tr>\n",
       "      <th>2</th>\n",
       "      <td>f99053da7416fd6d626451cd49e44e0f</td>\n",
       "      <td>0.23</td>\n",
       "    </tr>\n",
       "    <tr>\n",
       "      <th>3</th>\n",
       "      <td>acf599349b44e4e51d2beacb549313ad</td>\n",
       "      <td>0.23</td>\n",
       "    </tr>\n",
       "    <tr>\n",
       "      <th>4</th>\n",
       "      <td>664f7107c351f24b16b68919398730a0</td>\n",
       "      <td>0.23</td>\n",
       "    </tr>\n",
       "    <tr>\n",
       "      <th>...</th>\n",
       "      <td>...</td>\n",
       "      <td>...</td>\n",
       "    </tr>\n",
       "    <tr>\n",
       "      <th>96461</th>\n",
       "      <td>c9f2b70eaddf459267a9de373aaf743b</td>\n",
       "      <td>0.23</td>\n",
       "    </tr>\n",
       "    <tr>\n",
       "      <th>96462</th>\n",
       "      <td>3ae68a873484afec224de126a94c5974</td>\n",
       "      <td>0.23</td>\n",
       "    </tr>\n",
       "    <tr>\n",
       "      <th>96463</th>\n",
       "      <td>4bc530761c1b59d33d7c6cb640d3ee78</td>\n",
       "      <td>0.23</td>\n",
       "    </tr>\n",
       "    <tr>\n",
       "      <th>96464</th>\n",
       "      <td>232422c2db1f7c69daf3b0f0421ebb43</td>\n",
       "      <td>0.23</td>\n",
       "    </tr>\n",
       "    <tr>\n",
       "      <th>96465</th>\n",
       "      <td>fc0bcca3d8d90a812b707bb8e45069d6</td>\n",
       "      <td>0.23</td>\n",
       "    </tr>\n",
       "  </tbody>\n",
       "</table>\n",
       "<p>96466 rows × 2 columns</p>\n",
       "</div>"
      ],
      "text/plain": [
       "                     customer_unique_id  orders_by_week\n",
       "0      f176923a0a4ab546c7287791ccb82193            0.23\n",
       "1      1dc848c11c2985635c268ff3dea707eb            0.23\n",
       "2      f99053da7416fd6d626451cd49e44e0f            0.23\n",
       "3      acf599349b44e4e51d2beacb549313ad            0.23\n",
       "4      664f7107c351f24b16b68919398730a0            0.23\n",
       "...                                 ...             ...\n",
       "96461  c9f2b70eaddf459267a9de373aaf743b            0.23\n",
       "96462  3ae68a873484afec224de126a94c5974            0.23\n",
       "96463  4bc530761c1b59d33d7c6cb640d3ee78            0.23\n",
       "96464  232422c2db1f7c69daf3b0f0421ebb43            0.23\n",
       "96465  fc0bcca3d8d90a812b707bb8e45069d6            0.23\n",
       "\n",
       "[96466 rows x 2 columns]"
      ]
     },
     "execution_count": 20,
     "metadata": {},
     "output_type": "execute_result"
    }
   ],
   "source": [
    "avg_purch_ord[['customer_unique_id', 'orders_by_week']]"
   ]
  }
 ],
 "metadata": {
  "kernelspec": {
   "display_name": "Python [conda env:base] *",
   "language": "python",
   "name": "conda-base-py"
  },
  "language_info": {
   "codemirror_mode": {
    "name": "ipython",
    "version": 3
   },
   "file_extension": ".py",
   "mimetype": "text/x-python",
   "name": "python",
   "nbconvert_exporter": "python",
   "pygments_lexer": "ipython3",
   "version": "3.12.7"
  }
 },
 "nbformat": 4,
 "nbformat_minor": 4
}
